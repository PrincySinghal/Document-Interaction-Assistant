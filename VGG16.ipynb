{
  "nbformat": 4,
  "nbformat_minor": 0,
  "metadata": {
    "colab": {
      "provenance": [],
      "gpuType": "T4"
    },
    "kernelspec": {
      "name": "python3",
      "display_name": "Python 3"
    },
    "language_info": {
      "name": "python"
    },
    "accelerator": "GPU"
  },
  "cells": [
    {
      "cell_type": "markdown",
      "source": [
        "# Importing Libraries"
      ],
      "metadata": {
        "id": "JQwzVedzGsad"
      }
    },
    {
      "cell_type": "code",
      "source": [
        "import tensorflow as tf\n",
        "from tensorflow.keras import datasets,layers,models\n",
        "import matplotlib.pyplot as plt\n",
        "import numpy as np\n",
        "import os\n",
        "import cv2\n",
        "from tensorflow.keras.models import Sequential\n",
        "from tensorflow.keras.callbacks import EarlyStopping\n",
        "from tensorflow.keras.utils import to_categorical"
      ],
      "metadata": {
        "id": "g97LuoFr7cZP"
      },
      "execution_count": null,
      "outputs": []
    },
    {
      "cell_type": "code",
      "source": [
        "# import random\n",
        "# # fair evaluations of different configurations by maintaining randomness consistency during Hyperparameter tuning\n",
        "# seed_constant=27\n",
        "# np.random.seed(seed_constant)\n",
        "# random.seed(seed_constant)\n",
        "# tf.random.set_seed(seed_constant)"
      ],
      "metadata": {
        "id": "-Q2p-zES8RJ6"
      },
      "execution_count": null,
      "outputs": []
    },
    {
      "cell_type": "markdown",
      "source": [
        "# Dataset loading and creation\n"
      ],
      "metadata": {
        "id": "PUBCQFsoU_V4"
      }
    },
    {
      "cell_type": "code",
      "source": [
        "from google.colab import drive\n",
        "drive.mount('/content/drive')"
      ],
      "metadata": {
        "id": "VwI7lQcNVxYl",
        "colab": {
          "base_uri": "https://localhost:8080/"
        },
        "outputId": "94d5c951-2ecf-429e-91e8-e41532b29166"
      },
      "execution_count": null,
      "outputs": [
        {
          "output_type": "stream",
          "name": "stdout",
          "text": [
            "Drive already mounted at /content/drive; to attempt to forcibly remount, call drive.mount(\"/content/drive\", force_remount=True).\n"
          ]
        }
      ]
    },
    {
      "cell_type": "code",
      "source": [
        "# list of classes classified by our model\n",
        "CLASSES_LIST=[\"aadhar\",\"passport\",\"driver license\",\"pan\",\"voter\"]\n"
      ],
      "metadata": {
        "id": "L_zLtHQx8hhr"
      },
      "execution_count": null,
      "outputs": []
    },
    {
      "cell_type": "markdown",
      "source": [
        "##creating train and validate data"
      ],
      "metadata": {
        "id": "O1OpPbhZZ61l"
      }
    },
    {
      "cell_type": "code",
      "source": [
        "from tensorflow.keras.preprocessing import image_dataset_from_directory\n",
        "\n",
        "IMG_SIZE = (224, 224)  # image  will be resized to 224 pixels in height and 224 pixels in width for model training\n",
        "batch_size = 32        # Adjust based on  GPU memory\n",
        "\n",
        "# Creating the training dataset\n",
        "#subset='training' tells the function to use the part of the data designated for training(80% in this case)\n",
        "train_dataset = image_dataset_from_directory(\n",
        "    '/content/drive/MyDrive/id_card_dataset/train',\n",
        "    validation_split=0.2,\n",
        "    subset='training',\n",
        "    seed=123,\n",
        "    image_size=IMG_SIZE,\n",
        "    batch_size=batch_size)\n",
        "\n",
        "# Creating the validation dataset\n",
        "#subset='validation' tells the function to use the remaining part of the data (20% in this case) for validation\n",
        "validation_dataset = image_dataset_from_directory(\n",
        "    '/content/drive/MyDrive/id_card_dataset/train',\n",
        "    validation_split=0.2,\n",
        "    subset='validation',\n",
        "    seed=123,\n",
        "    image_size=IMG_SIZE,\n",
        "    batch_size=batch_size)\n",
        "\n",
        "\n"
      ],
      "metadata": {
        "colab": {
          "base_uri": "https://localhost:8080/"
        },
        "id": "yS8YbwbpWPeu",
        "outputId": "196fe488-7e5d-4d30-9c0a-c328f5333397"
      },
      "execution_count": null,
      "outputs": [
        {
          "output_type": "stream",
          "name": "stdout",
          "text": [
            "Found 340 files belonging to 5 classes.\n",
            "Using 272 files for training.\n",
            "Found 340 files belonging to 5 classes.\n",
            "Using 68 files for validation.\n"
          ]
        }
      ]
    },
    {
      "cell_type": "markdown",
      "source": [
        "##class wise dataset distribution"
      ],
      "metadata": {
        "id": "aPqBXtXwY_xn"
      }
    },
    {
      "cell_type": "code",
      "source": [
        "import os\n",
        "\n",
        "# Path to your dataset\n",
        "dataset_path = '/content/drive/MyDrive/id_card_dataset/train'\n",
        "\n",
        "# Initialize a dictionary to hold the count of images per class\n",
        "class_distribution = {}\n",
        "\n",
        "# Loop through each class in the dataset directory\n",
        "for class_name in os.listdir(dataset_path):\n",
        "    # Construct the path to the class's folder\n",
        "    class_folder = os.path.join(dataset_path, class_name)\n",
        "\n",
        "    # Check if it's a directory\n",
        "    if os.path.isdir(class_folder):\n",
        "        # Count the number of images in this folder\n",
        "        num_images = len(os.listdir(class_folder))\n",
        "\n",
        "        # Update the dictionary\n",
        "        class_distribution[class_name] = num_images\n",
        "\n",
        "# Print the class distribution\n",
        "for class_name, count in class_distribution.items():\n",
        "    print(f\"Class '{class_name}': {count} images\")\n",
        "\n",
        "try:\n",
        "    import matplotlib.pyplot as plt\n",
        "\n",
        "    plt.bar(class_distribution.keys(), class_distribution.values())\n",
        "    plt.xlabel('Classes')\n",
        "    plt.ylabel('Number of Images')\n",
        "    plt.title('Class Distribution in Dataset')\n",
        "    plt.xticks(rotation=45)\n",
        "    plt.show()\n",
        "except ImportError:\n",
        "    print(\"matplotlib is not installed\")\n"
      ],
      "metadata": {
        "id": "m56RUwGCZLHx",
        "colab": {
          "base_uri": "https://localhost:8080/",
          "height": 621
        },
        "outputId": "0bf5b394-a257-4f34-aeeb-193becc55ec3"
      },
      "execution_count": null,
      "outputs": [
        {
          "output_type": "stream",
          "name": "stdout",
          "text": [
            "Class 'voter': 67 images\n",
            "Class 'passport': 37 images\n",
            "Class 'pan': 45 images\n",
            "Class 'driver license': 62 images\n",
            "Class 'aadhar': 129 images\n"
          ]
        },
        {
          "output_type": "display_data",
          "data": {
            "text/plain": [
              "<Figure size 640x480 with 1 Axes>"
            ],
            "image/png": "[encoded data removed]"
          },
          "metadata": {}
        }
      ]
    },
    {
      "cell_type": "markdown",
      "source": [
        "## data normalisation and augmentation"
      ],
      "metadata": {
        "id": "eFLTU6l1s1-L"
      }
    },
    {
      "cell_type": "code",
      "source": [
        "!ls \"/content/drive/MyDrive/id_card_dataset/test\"\n"
      ],
      "metadata": {
        "id": "IE9goJlO3N_0",
        "colab": {
          "base_uri": "https://localhost:8080/"
        },
        "outputId": "2bf2ba29-db9c-489a-f21a-ab6624a5ee74"
      },
      "execution_count": null,
      "outputs": [
        {
          "output_type": "stream",
          "name": "stdout",
          "text": [
            " aadhar  'driver license'   pan   passport   voter\n"
          ]
        }
      ]
    },
    {
      "cell_type": "code",
      "source": [
        "from tensorflow.keras.preprocessing.image import ImageDataGenerator\n",
        "\n",
        "# Assuming IMG_SIZE is defined (e.g., IMG_SIZE = (224, 224))\n",
        "train_datagen = ImageDataGenerator(\n",
        "    rescale=1./255,\n",
        "    validation_split=0.2,\n",
        "    rotation_range=40,  # Degree range for random rotations\n",
        "    width_shift_range=0.2,  # Range (as a fraction of total width) for horizontal shifts\n",
        "    height_shift_range=0.2,  # Range (as a fraction of total height) for vertical shifts\n",
        "    shear_range=0.2,  # Shear Intensity (Shear angle in counter-clockwise direction)\n",
        "    zoom_range=0.2,  # Range for random zoom\n",
        "    horizontal_flip=True,  # Randomly flip inputs horizontally\n",
        "    fill_mode='nearest'  # Strategy to fill newly created pixels\n",
        ")\n",
        "\n",
        "train_generator = train_datagen.flow_from_directory(\n",
        "    '/content/drive/MyDrive/id_card_dataset/train',\n",
        "    target_size=IMG_SIZE,  # Resize the images\n",
        "    batch_size=32,\n",
        "    class_mode='categorical',\n",
        "    subset='training'  # Set as training data\n",
        ")\n",
        "\n",
        "validation_generator = train_datagen.flow_from_directory(\n",
        "    '/content/drive/MyDrive/id_card_dataset/train',\n",
        "    target_size=IMG_SIZE,  # Resize the images\n",
        "    batch_size=32,\n",
        "    class_mode='categorical',\n",
        "    subset='validation'  # Set as validation data\n",
        ")\n",
        "\n",
        "from tensorflow.keras.preprocessing.image import ImageDataGenerator\n",
        "\n",
        "# Initialize the test data generator with only rescaling\n",
        "test_datagen = ImageDataGenerator(rescale=1./255)\n",
        "\n",
        "# Create a flow from the directory for the test set\n",
        "test_generator = test_datagen.flow_from_directory(\n",
        "    '/content/drive/MyDrive/id_card_dataset/test',  # Update with your test data path\n",
        "    target_size=(IMG_SIZE, IMG_SIZE),\n",
        "    batch_size=32,\n",
        "    class_mode='categorical',\n",
        "    shuffle=False  # Important: keep data in same order for evaluation\n",
        ")\n",
        "\n"
      ],
      "metadata": {
        "id": "V5KM7wjUsbzb",
        "colab": {
          "base_uri": "https://localhost:8080/"
        },
        "outputId": "0f518db7-95f1-4c26-a77c-830f7ac7ddc4"
      },
      "execution_count": null,
      "outputs": [
        {
          "output_type": "stream",
          "name": "stdout",
          "text": [
            "Found 274 images belonging to 5 classes.\n",
            "Found 65 images belonging to 5 classes.\n",
            "Found 23 images belonging to 5 classes.\n"
          ]
        }
      ]
    },
    {
      "cell_type": "markdown",
      "source": [
        "doesn't physically increase the size of your dataset stored on disk. Instead, it dynamically augments the images in real-time during the model training process."
      ],
      "metadata": {
        "id": "qftmqEu9vIx0"
      }
    },
    {
      "cell_type": "markdown",
      "source": [
        "# VGG 16"
      ],
      "metadata": {
        "id": "fL5kqo9430jc"
      }
    },
    {
      "cell_type": "code",
      "source": [
        "from tensorflow.keras.applications import VGG16, VGG19\n",
        "\n",
        "# Load VGG16 model pre-trained on ImageNet\n",
        "vgg16_model = VGG16(weights='imagenet', include_top=False, input_shape=(224, 224, 3))\n",
        "\n",
        "# # Load VGG19 model pre-trained on ImageNet\n",
        "# vgg19_model = VGG19(weights='imagenet', include_top=False, input_shape=(224, 224, 3))\n"
      ],
      "metadata": {
        "id": "hH_Lg-Zm3xca"
      },
      "execution_count": null,
      "outputs": []
    },
    {
      "cell_type": "code",
      "source": [
        "for layer in vgg16_model.layers:\n",
        "    layer.trainable = False\n",
        "\n",
        "# for layer in vgg19_model.layers:\n",
        "#     layer.trainable = False\n"
      ],
      "metadata": {
        "id": "6LAMg-w64srA"
      },
      "execution_count": null,
      "outputs": []
    },
    {
      "cell_type": "code",
      "source": [
        "from tensorflow.keras import layers, models\n",
        "\n",
        "# Adding custom layers on top of VGG16\n",
        "vgg16_custom = models.Sequential()\n",
        "vgg16_custom.add(vgg16_model)\n",
        "vgg16_custom.add(layers.Flatten())\n",
        "vgg16_custom.add(layers.Dense(256, activation='relu'))\n",
        "vgg16_custom.add(layers.Dropout(0.5))\n",
        "vgg16_custom.add(layers.Dense(5, activation='softmax'))  # Assuming 5 classes\n"
      ],
      "metadata": {
        "id": "Juakf5944vNE"
      },
      "execution_count": null,
      "outputs": []
    },
    {
      "cell_type": "code",
      "source": [
        "early_stopping_callback = EarlyStopping(monitor = 'val_loss', patience = 5, mode = 'min', restore_best_weights = True)"
      ],
      "metadata": {
        "id": "63V9_Ba5IFRm"
      },
      "execution_count": null,
      "outputs": []
    },
    {
      "cell_type": "code",
      "source": [
        "vgg16_custom.compile(optimizer='adam', loss='categorical_crossentropy', metrics=['accuracy'])"
      ],
      "metadata": {
        "id": "gYJ8nprr8zMo"
      },
      "execution_count": null,
      "outputs": []
    },
    {
      "cell_type": "code",
      "source": [
        "history = vgg16_custom.fit(train_generator, validation_data=validation_generator, epochs=15, callbacks=[early_stopping_callback])"
      ],
      "metadata": {
        "id": "8WhISrOQ4zSC",
        "colab": {
          "base_uri": "https://localhost:8080/"
        },
        "outputId": "81fddf10-3257-42bc-e0ca-6cfb200ae255"
      },
      "execution_count": null,
      "outputs": [
        {
          "output_type": "stream",
          "name": "stdout",
          "text": [
            "Epoch 1/15\n",
            "9/9 [==============================] - 20s 1s/step - loss: 3.6933 - accuracy: 0.3102 - val_loss: 1.0363 - val_accuracy: 0.7077\n",
            "Epoch 2/15\n",
            "9/9 [==============================] - 12s 1s/step - loss: 1.4379 - accuracy: 0.5949 - val_loss: 0.8500 - val_accuracy: 0.6769\n",
            "Epoch 3/15\n",
            "9/9 [==============================] - 7s 781ms/step - loss: 0.8967 - accuracy: 0.6569 - val_loss: 0.7630 - val_accuracy: 0.6769\n",
            "Epoch 4/15\n",
            "9/9 [==============================] - 8s 816ms/step - loss: 0.7934 - accuracy: 0.7190 - val_loss: 0.6605 - val_accuracy: 0.8154\n",
            "Epoch 5/15\n",
            "9/9 [==============================] - 8s 961ms/step - loss: 0.6115 - accuracy: 0.7628 - val_loss: 0.7611 - val_accuracy: 0.6615\n",
            "Epoch 6/15\n",
            "9/9 [==============================] - 8s 850ms/step - loss: 0.5154 - accuracy: 0.7883 - val_loss: 0.5885 - val_accuracy: 0.7692\n",
            "Epoch 7/15\n",
            "9/9 [==============================] - 8s 929ms/step - loss: 0.5014 - accuracy: 0.8102 - val_loss: 0.6227 - val_accuracy: 0.8154\n",
            "Epoch 8/15\n",
            "9/9 [==============================] - 8s 854ms/step - loss: 0.4726 - accuracy: 0.8212 - val_loss: 0.6251 - val_accuracy: 0.7692\n",
            "Epoch 9/15\n",
            "9/9 [==============================] - 11s 1s/step - loss: 0.4384 - accuracy: 0.8467 - val_loss: 0.5815 - val_accuracy: 0.8000\n",
            "Epoch 10/15\n",
            "9/9 [==============================] - 9s 988ms/step - loss: 0.3786 - accuracy: 0.8723 - val_loss: 0.6118 - val_accuracy: 0.7385\n",
            "Epoch 11/15\n",
            "9/9 [==============================] - 8s 912ms/step - loss: 0.4399 - accuracy: 0.8650 - val_loss: 0.6653 - val_accuracy: 0.6923\n",
            "Epoch 12/15\n",
            "9/9 [==============================] - 11s 1s/step - loss: 0.3719 - accuracy: 0.8723 - val_loss: 0.5072 - val_accuracy: 0.8000\n",
            "Epoch 13/15\n",
            "9/9 [==============================] - 9s 1s/step - loss: 0.3693 - accuracy: 0.8759 - val_loss: 0.8256 - val_accuracy: 0.6615\n",
            "Epoch 14/15\n",
            "9/9 [==============================] - 7s 790ms/step - loss: 0.3489 - accuracy: 0.8796 - val_loss: 0.5313 - val_accuracy: 0.8308\n",
            "Epoch 15/15\n",
            "9/9 [==============================] - 9s 1s/step - loss: 0.3318 - accuracy: 0.9051 - val_loss: 0.3677 - val_accuracy: 0.8769\n"
          ]
        }
      ]
    },
    {
      "cell_type": "code",
      "source": [
        "vgg16_custom.save('15epochs87.h5')"
      ],
      "metadata": {
        "colab": {
          "base_uri": "https://localhost:8080/"
        },
        "id": "7L7vPpwxMpVE",
        "outputId": "aca6b931-dfc5-41f5-e336-a3f955de42a3"
      },
      "execution_count": null,
      "outputs": [
        {
          "output_type": "stream",
          "name": "stderr",
          "text": [
            "/usr/local/lib/python3.10/dist-packages/keras/src/engine/training.py:3079: UserWarning: You are saving your model as an HDF5 file via `model.save()`. This file format is considered legacy. We recommend using instead the native Keras format, e.g. `model.save('my_model.keras')`.\n",
            "  saving_api.save_model(\n"
          ]
        }
      ]
    },
    {
      "cell_type": "code",
      "source": [],
      "metadata": {
        "id": "_TaIKjEnASs2"
      },
      "execution_count": null,
      "outputs": []
    }
  ]
}